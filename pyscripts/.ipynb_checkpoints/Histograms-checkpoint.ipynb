{
 "cells": [
  {
   "cell_type": "code",
   "execution_count": null,
   "metadata": {},
   "outputs": [],
   "source": [
    "import numpy as np\n",
    "import matplotlib\n",
    "import matplotlib.pyplot as plt\n",
    "from sklearn import datasets\n",
    "import matplotlib.pyplot as plt\n",
    "params = {'axes.titlesize':'32',\n",
    "          'xtick.labelsize':'24',\n",
    "          'ytick.labelsize':'24'}\n",
    "\n",
    "matplotlib.rcParams.update(params)\n",
    "\n",
    "ax = fig.gca()\n",
    "plt.xticks(rotation=270)\n"
   ]
  },
  {
   "cell_type": "code",
   "execution_count": null,
   "metadata": {},
   "outputs": [],
   "source": [
    "result=pd.read_csv('../assets/new/result.csv')\n",
    "poi_sorted =pd.read_csv('../assets/new/poi_sorted.csv')"
   ]
  },
  {
   "cell_type": "code",
   "execution_count": null,
   "metadata": {},
   "outputs": [],
   "source": [
    "poi_sorted['Rubric'].hist(ax = ax)\n",
    "fig.savefig('../assets/histograms/rubricshistogram.png')"
   ]
  },
  {
   "cell_type": "code",
   "execution_count": null,
   "metadata": {},
   "outputs": [],
   "source": [
    "\n",
    "plt.suptitle('Количество людей(в доме)',x=0.5, y=1.05, ha='center',fontsize='xx-large')\n",
    "#dwellings info\n",
    "h = result['коэф семейности 2.7'].hist()\n",
    "fig = h.get_figure()\n",
    "fig.savefig('../assets/histograms/dwellings/family_ratio_histogram.png')"
   ]
  },
  {
   "cell_type": "code",
   "execution_count": null,
   "metadata": {},
   "outputs": [],
   "source": [
    "plt.suptitle('Количество людей(в доме)',x=0.5, y=1.05, ha='center',fontsize='xx-large')\n",
    "h = result['amountofpeople'].hist()\n",
    "fig = h.get_figure()\n",
    "fig.savefig('../assets/histograms/dwellings/amountofpeople_histogram.png')"
   ]
  },
  {
   "cell_type": "code",
   "execution_count": null,
   "metadata": {},
   "outputs": [],
   "source": [
    "plt.suptitle('Количество подъездов',x=0.5, y=1.05, ha='center',fontsize='xx-large')\n",
    "h = result['Количество подъездов'].hist()\n",
    "fig = h.get_figure()\n",
    "h.figure.savefig('../assets/histograms/dwellings/amountofentrances_histogram.pdf')\n",
    "fig.savefig('../assets/histograms/dwellings/amountofentrances_histogram.png')"
   ]
  },
  {
   "cell_type": "code",
   "execution_count": null,
   "metadata": {},
   "outputs": [],
   "source": [
    "plt.suptitle('Количество квартир', ha='center',fontsize='xx-large')\n",
    "result['Количество квартир'].hist()\n",
    "fig.savefig('../assets/histograms/dwellings/amountoffloors_histogram.png')"
   ]
  },
  {
   "cell_type": "code",
   "execution_count": null,
   "metadata": {},
   "outputs": [],
   "source": [
    "plt.suptitle('Распределение квартир по районам', ha='center',fontsize='xx-large')\n",
    "result['Район'].hist()\n",
    "fig.savefig('../assets/histograms/dwellings/district_histogram.png')"
   ]
  },
  {
   "cell_type": "code",
   "execution_count": null,
   "metadata": {},
   "outputs": [],
   "source": [
    "plt.suptitle('Этажность', ha='center',fontsize='xx-large')\n",
    "h=result['Этажность'].hist()\n",
    "fig = h.get_figure()\n",
    "fig.savefig('../assets/histograms/dwellings/amountoffloors_histogram.png')"
   ]
  },
  {
   "cell_type": "code",
   "execution_count": null,
   "metadata": {},
   "outputs": [],
   "source": [
    "plt.suptitle('Площадь квартир',x=0.5, y=1.05, ha='center',fontsize='xx-large')\n",
    "h=result['Площадь'].hist()\n",
    "fig = h.get_figure()\n",
    "fig.savefig('../assets/histograms/dwellings/s_histogram.png')"
   ]
  },
  {
   "cell_type": "code",
   "execution_count": null,
   "metadata": {},
   "outputs": [],
   "source": [
    "plt.suptitle('Распределение по районам', ha='center',fontsize='xx-large')\n",
    "poi_sorted['index_of_city'].hist()\n",
    "fig.savefig('../assets/histograms/poi/districtshistogram.png')"
   ]
  },
  {
   "cell_type": "code",
   "execution_count": null,
   "metadata": {},
   "outputs": [],
   "source": [
    "plt.suptitle('Количество Филиалов', ha='center',fontsize='xx-large')\n",
    "poi_sorted['philial_amount'].hist()\n",
    "fig.savefig('../assets/histograms/poi/philial_amounthistogram.png')"
   ]
  }
 ],
 "metadata": {
  "kernelspec": {
   "display_name": "Python 3",
   "language": "python",
   "name": "python3"
  },
  "language_info": {
   "codemirror_mode": {
    "name": "ipython",
    "version": 3
   },
   "file_extension": ".py",
   "mimetype": "text/x-python",
   "name": "python",
   "nbconvert_exporter": "python",
   "pygments_lexer": "ipython3",
   "version": "3.8.3"
  }
 },
 "nbformat": 4,
 "nbformat_minor": 4
}
