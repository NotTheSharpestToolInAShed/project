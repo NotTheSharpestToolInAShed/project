{
 "cells": [
  {
   "cell_type": "code",
   "execution_count": null,
   "metadata": {
    "pycharm": {
     "name": "#%%\n"
    },
    "scrolled": false
   },
   "outputs": [],
   "source": [
    "import pandas as pd\n",
    "import numpy as np\n",
    "import sweetviz\n",
    "import scipy\n",
    "from scipy import stats\n",
    "import subprocess\n",
    "pd.options.display.max_columns = None\n",
    "\n",
    "\n",
    "from tkinter import Tk\n",
    "from tkinter.filedialog import askopenfilename\n",
    "\n"
   ]
  },
  {
   "cell_type": "code",
   "execution_count": null,
   "metadata": {},
   "outputs": [],
   "source": [
    "Tk().withdraw() # we don't want a full GUI, so keep the root window from appearing\n",
    "_filename_dwellings = askopenfilename() # show an \"Open\" dialog box and return the path to the selected file\n",
    "print(_filename_dwellings)"
   ]
  },
  {
   "cell_type": "code",
   "execution_count": null,
   "metadata": {},
   "outputs": [],
   "source": [
    "dwellings=pd.read_csv(_filename_dwellings)\n",
    "dwellings"
   ]
  },
  {
   "cell_type": "code",
   "execution_count": null,
   "metadata": {},
   "outputs": [],
   "source": [
    "Tk().withdraw() # we don't want a full GUI, so keep the root window from appearing\n",
    "_filename_poi = askopenfilename() # show an \"Open\" dialog box and return the path to the selected file\n",
    "print(_filename_poi)\n"
   ]
  },
  {
   "cell_type": "code",
   "execution_count": null,
   "metadata": {},
   "outputs": [],
   "source": [
    "poi = pd.read_csv(_filename_poi)\n",
    "\n",
    "\n",
    "poi_sorted=poi.sort_values(by=['Rubric','Organization_name' ]).reset_index()\n",
    "poi_sorted\n"
   ]
  },
  {
   "cell_type": "code",
   "execution_count": null,
   "metadata": {},
   "outputs": [],
   "source": [
    "Tk().withdraw() # we don't want a full GUI, so keep the root window from appearing\n",
    "_filename_rubrics = askopenfilename() # show an \"Open\" dialog box and return the path to the selected file\n",
    "print(_filename_rubrics)\n"
   ]
  },
  {
   "cell_type": "code",
   "execution_count": null,
   "metadata": {},
   "outputs": [],
   "source": [
    "rubrics=pd.read_csv(_filename_rubrics)\n",
    "rubrics\n",
    "\n"
   ]
  },
  {
   "cell_type": "code",
   "execution_count": null,
   "metadata": {},
   "outputs": [],
   "source": [
    "\n",
    "#my_report = sweetviz.compare([citizens, \"Train\"], [poi, \"Test\"], \"Survived\")\n",
    "#my_report.show_html(\"Report.html\") "
   ]
  },
  {
   "cell_type": "code",
   "execution_count": null,
   "metadata": {
    "scrolled": false
   },
   "outputs": [],
   "source": [
    "\n",
    " \n",
    " \n",
    "    def make_agg_count(df_in, group_col_name, stat_col_name):\n",
    "        res = df_in.copy()\n",
    "        res['X']=df['X']\n",
    "        res['Y']=df['Y']\n",
    "        \n",
    "        # то же самое что и count, количество\n",
    "        res['col_count'] = df.groupby(by=[group_col_name], as_index=False)[stat_col_name].transform(lambda s: s.values.shape[0])\n",
    "        return res\n",
    "    \n",
    "    def make_agg_mean(df_in, group_col_name, stat_col_name):\n",
    "        res = df_in.copy()\n",
    "        res['X']=df['X']\n",
    "        res['Y']=df['Y']\n",
    "        # среднее значение по сгруппированному столбцу\n",
    "        res['col_mean'] = df.groupby(by=[group_col_name], as_index=False)[stat_col_name].transform(lambda s: np.mean(s.values))\n",
    "        return res\n",
    "    def make_agg_median(df_in, group_col_name, stat_col_name):\n",
    "        res = df_in.copy()\n",
    "        res['X']=df['X']\n",
    "        res['Y']=df['Y']\n",
    "       # медиана по сгруппированному столбцу\n",
    "        res['col_median'] = df.groupby(by=[group_col_name], as_index=False)[stat_col_name].transform(lambda s: np.median(s.values))\n",
    "        return res\n",
    "    def make_agg_sum(df_in, group_col_name, stat_col_name):\n",
    "        res = df_in.copy()\n",
    "        res['X']=df['X']\n",
    "        res['Y']=df['Y']\n",
    "       # сумма по сгруппированному столбцу\n",
    "        res['col_sum'] = df.groupby(by=[group_col_name], as_index=False)[stat_col_name].transform(lambda s: np.sum(s.values))\n",
    "        return res\n",
    "    def make_agg_max(df_in, group_col_name, stat_col_name):\n",
    "        res = df_in.copy()\n",
    "        res['X']=df['X']\n",
    "        res['Y']=df['Y']\n",
    "      # максимум по сгруппированному столбцу\n",
    "        res['col_max'] = df.groupby(by=[group_col_name], as_index=False)[stat_col_name].transform(lambda s: np.max(s.values))\n",
    "        return res\n",
    "    def make_agg_min(df_in, group_col_name, stat_col_name):\n",
    "        res = df_in.copy()\n",
    "        res['X']=df['X']\n",
    "        res['Y']=df['Y']\n",
    "        # минимум по сгруппированному столбцу\n",
    "        res['col_min'] = df.groupby(by=[group_col_name], as_index=False)[stat_col_name].transform(lambda s: np.min(s.values))\n",
    "        return res\n",
    "    \n",
    "    def make_k_familiness(df_in,flats_col_name,family_col_name):\n",
    "        res=df_in.copy()\n",
    "        res['amountofpeople']=res[flats_col_name]*res[family_col_name]/1000\n",
    "        return res\n",
    "        # стандартное отклонение по сгруппированному столбцу\n",
    "        #df['col_std'] = df.groupby(by=[group_col_name], as_index=False)[stat_col_name].transform(lambda s: np.std(s.values))\n",
    "        # квантили в 20 и 80 % по сгруппированному столбцу\n",
    "        # df['col_q20'] = df.groupby(by=[group_col_name], as_index=False)[stat_col_name].transform(lambda s: np.quantile(s.values, q=0.2))\n",
    "        #df['col_q80'] = df.groupby(by=[group_col_name], as_index=False)[stat_col_name].transform(lambda s: np.quantile(s.values, q=0.8))\n",
    "        # skew\n",
    "        #df['col_skew'] = df.groupby(by=[group_col_name], as_index=False)[stat_col_name].transform(lambda s: scipy.stats.skew(s))\n",
    " \n",
    "       \n",
    " \n",
    "result = make_k_familiness(dwellings,'Количество квартир', 'коэф семейности 2.7')\n",
    "result\n",
    "#resultsum=make_agg_sum(result,'amountofpeople',)"
   ]
  },
  {
   "cell_type": "code",
   "execution_count": null,
   "metadata": {},
   "outputs": [],
   "source": [
    "\n",
    "#result.to_csv('../assets/new/test.csv')\n",
    "#result.to_json('../assets/new/test.json')\n",
    "#host = \"5432\"\n",
    "#username = \"postgres\"\n",
    "#dbname = \"web-map\"\n",
    "\n",
    "#table_name = \"vitizenstest\"\n",
    "#file_name = result.to_csv('../assets/new/test.csv')\n",
    "\n",
    "#result"
   ]
  },
  {
   "cell_type": "code",
   "execution_count": null,
   "metadata": {},
   "outputs": [],
   "source": []
  },
  {
   "cell_type": "code",
   "execution_count": null,
   "metadata": {},
   "outputs": [],
   "source": []
  },
  {
   "cell_type": "code",
   "execution_count": null,
   "metadata": {},
   "outputs": [],
   "source": []
  }
 ],
 "metadata": {
  "kernelspec": {
   "display_name": "Python 3",
   "language": "python",
   "name": "python3"
  },
  "language_info": {
   "codemirror_mode": {
    "name": "ipython",
    "version": 3
   },
   "file_extension": ".py",
   "mimetype": "text/x-python",
   "name": "python",
   "nbconvert_exporter": "python",
   "pygments_lexer": "ipython3",
   "version": "3.8.3"
  }
 },
 "nbformat": 4,
 "nbformat_minor": 1
}
